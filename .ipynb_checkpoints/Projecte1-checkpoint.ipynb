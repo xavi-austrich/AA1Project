{
 "cells": [
  {
   "cell_type": "markdown",
   "id": "6528f7f1-16c5-444b-afd6-cfac8f453d9d",
   "metadata": {},
   "source": [
    "# AA1 Machine learning competition\n",
    "\n",
    "We'll first install all the necessary libraries"
   ]
  },
  {
   "cell_type": "code",
   "execution_count": 2,
   "id": "3e7a2d25-da01-46ee-9ec3-994c469eaebf",
   "metadata": {},
   "outputs": [],
   "source": [
    "import numpy as np\n",
    "import matplotlib.pyplot as plt\n",
    "import seaborn as sn\n",
    "import pandas as pd"
   ]
  },
  {
   "cell_type": "code",
   "execution_count": 3,
   "id": "8d684458-b81b-4dfa-bdaf-930e21c8db7b",
   "metadata": {},
   "outputs": [],
   "source": [
    "from pandas import read_csv"
   ]
  },
  {
   "cell_type": "code",
   "execution_count": 7,
   "id": "63d9e540-b263-4c0d-bd96-5eb547534131",
   "metadata": {},
   "outputs": [],
   "source": [
    "Liver_data = read_csv(\"liver-patient-classification/test_data_ILDS.csv\", delimiter = ',')\n",
    "Liver_data.columns = [\"Age\", \"Female\", \"TB\", \"DB\", \"Alkphos\", \"Sgpt\", \"Sgot\", \"TP\", \"ALB\", \"A/R\"]"
   ]
  },
  {
   "cell_type": "code",
   "execution_count": 8,
   "id": "4ece60d7-4bef-4e84-9f63-454fa50f8f85",
   "metadata": {},
   "outputs": [
    {
     "data": {
      "text/html": [
       "<div>\n",
       "<style scoped>\n",
       "    .dataframe tbody tr th:only-of-type {\n",
       "        vertical-align: middle;\n",
       "    }\n",
       "\n",
       "    .dataframe tbody tr th {\n",
       "        vertical-align: top;\n",
       "    }\n",
       "\n",
       "    .dataframe thead th {\n",
       "        text-align: right;\n",
       "    }\n",
       "</style>\n",
       "<table border=\"1\" class=\"dataframe\">\n",
       "  <thead>\n",
       "    <tr style=\"text-align: right;\">\n",
       "      <th></th>\n",
       "      <th>Age</th>\n",
       "      <th>Female</th>\n",
       "      <th>TB</th>\n",
       "      <th>DB</th>\n",
       "      <th>Alkphos</th>\n",
       "      <th>Sgpt</th>\n",
       "      <th>Sgot</th>\n",
       "      <th>TP</th>\n",
       "      <th>ALB</th>\n",
       "      <th>A/R</th>\n",
       "    </tr>\n",
       "  </thead>\n",
       "  <tbody>\n",
       "    <tr>\n",
       "      <th>0</th>\n",
       "      <td>62</td>\n",
       "      <td>0</td>\n",
       "      <td>1.8</td>\n",
       "      <td>0.9</td>\n",
       "      <td>224</td>\n",
       "      <td>69</td>\n",
       "      <td>155</td>\n",
       "      <td>8.6</td>\n",
       "      <td>4.0</td>\n",
       "      <td>0.80</td>\n",
       "    </tr>\n",
       "    <tr>\n",
       "      <th>1</th>\n",
       "      <td>60</td>\n",
       "      <td>0</td>\n",
       "      <td>0.7</td>\n",
       "      <td>0.2</td>\n",
       "      <td>174</td>\n",
       "      <td>32</td>\n",
       "      <td>14</td>\n",
       "      <td>7.8</td>\n",
       "      <td>4.2</td>\n",
       "      <td>1.10</td>\n",
       "    </tr>\n",
       "    <tr>\n",
       "      <th>2</th>\n",
       "      <td>60</td>\n",
       "      <td>0</td>\n",
       "      <td>5.7</td>\n",
       "      <td>2.8</td>\n",
       "      <td>214</td>\n",
       "      <td>412</td>\n",
       "      <td>850</td>\n",
       "      <td>7.3</td>\n",
       "      <td>3.2</td>\n",
       "      <td>0.78</td>\n",
       "    </tr>\n",
       "    <tr>\n",
       "      <th>3</th>\n",
       "      <td>48</td>\n",
       "      <td>1</td>\n",
       "      <td>0.9</td>\n",
       "      <td>0.2</td>\n",
       "      <td>175</td>\n",
       "      <td>24</td>\n",
       "      <td>54</td>\n",
       "      <td>5.5</td>\n",
       "      <td>2.7</td>\n",
       "      <td>0.90</td>\n",
       "    </tr>\n",
       "    <tr>\n",
       "      <th>4</th>\n",
       "      <td>42</td>\n",
       "      <td>1</td>\n",
       "      <td>0.9</td>\n",
       "      <td>0.2</td>\n",
       "      <td>165</td>\n",
       "      <td>26</td>\n",
       "      <td>29</td>\n",
       "      <td>8.5</td>\n",
       "      <td>4.4</td>\n",
       "      <td>1.00</td>\n",
       "    </tr>\n",
       "  </tbody>\n",
       "</table>\n",
       "</div>"
      ],
      "text/plain": [
       "   Age  Female   TB   DB  Alkphos  Sgpt  Sgot   TP  ALB   A/R\n",
       "0   62       0  1.8  0.9      224    69   155  8.6  4.0  0.80\n",
       "1   60       0  0.7  0.2      174    32    14  7.8  4.2  1.10\n",
       "2   60       0  5.7  2.8      214   412   850  7.3  3.2  0.78\n",
       "3   48       1  0.9  0.2      175    24    54  5.5  2.7  0.90\n",
       "4   42       1  0.9  0.2      165    26    29  8.5  4.4  1.00"
      ]
     },
     "execution_count": 8,
     "metadata": {},
     "output_type": "execute_result"
    }
   ],
   "source": [
    "Liver_data.head()"
   ]
  }
 ],
 "metadata": {
  "kernelspec": {
   "display_name": "Python 3 (ipykernel)",
   "language": "python",
   "name": "python3"
  },
  "language_info": {
   "codemirror_mode": {
    "name": "ipython",
    "version": 3
   },
   "file_extension": ".py",
   "mimetype": "text/x-python",
   "name": "python",
   "nbconvert_exporter": "python",
   "pygments_lexer": "ipython3",
   "version": "3.10.12"
  }
 },
 "nbformat": 4,
 "nbformat_minor": 5
}
